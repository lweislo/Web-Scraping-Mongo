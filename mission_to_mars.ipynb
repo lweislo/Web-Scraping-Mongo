{
 "cells": [
  {
   "cell_type": "code",
   "execution_count": 1,
   "metadata": {},
   "outputs": [],
   "source": [
    "from splinter import Browser\n",
    "from splinter.exceptions import ElementDoesNotExist\n",
    "from bs4 import BeautifulSoup\n",
    "import requests\n",
    "import time\n",
    "import pandas as pd"
   ]
  },
  {
   "cell_type": "code",
   "execution_count": 2,
   "metadata": {},
   "outputs": [],
   "source": [
    "def init_browser():\n",
    "    # Mac-specific browser init\n",
    "    executable_path = {'executable_path': '/usr/local/bin/chromedriver'}\n",
    "    browser = Browser('chrome', **executable_path, headless=False)\n",
    "    return browser\n"
   ]
  },
  {
   "cell_type": "code",
   "execution_count": 3,
   "metadata": {},
   "outputs": [],
   "source": [
    "def mars_news():\n",
    "    browser = init_browser()\n",
    "    # Gather the latest Mars news from NASA\n",
    "    url = 'https://mars.nasa.gov/news/'\n",
    "    browser.visit(url)\n",
    "    time.sleep(1)\n",
    "    # Scrape the page\n",
    "    soup = BeautifulSoup(browser.html, 'lxml')\n",
    "    browser.quit()\n",
    "    headline_list = [] # Store the headlines\n",
    "\n",
    "    # News articles are in a div tag class list_text\n",
    "    article = soup.find_all('div', class_='list_text')\n",
    "    \n",
    "    # Loop through returned results\n",
    "    for item in article:\n",
    "        list_dict = {}\n",
    "        # Error handling\n",
    "        try:\n",
    "            # Grab the headline\n",
    "            headline = item.find('a').get_text()\n",
    "            # Grab the strapline\n",
    "            strapline = item.find('div', class_='article_teaser_body').get_text()\n",
    "            # Append to the lists\n",
    "            if (headline and strapline):\n",
    "                list_dict['headline'] = headline\n",
    "                list_dict['strapline'] = strapline\n",
    "                # Put the headline and strapline in a list\n",
    "                headline_list.append(list_dict)\n",
    "\n",
    "            else:\n",
    "                break\n",
    "        except ElementDoesNotExist as e:\n",
    "            print(e)\n",
    "    return headline_list"
   ]
  },
  {
   "cell_type": "code",
   "execution_count": 4,
   "metadata": {},
   "outputs": [
    {
     "data": {
      "text/plain": [
       "[{'headline': \"Six Things to Know About NASA's Opportunity Rover\",\n",
       "  'strapline': \"Opportunity's mission is complete. Here are highlights from its time on Mars.\"},\n",
       " {'headline': \"NASA's Opportunity Rover Mission on Mars Comes to End\",\n",
       "  'strapline': \"NASA's Opportunity Mars rover mission is complete after 15 years on Mars. Opportunity's record-breaking exploration laid the groundwork for future missions to the Red Planet.\"},\n",
       " {'headline': \"NASA's InSight Prepares to Take Mars' Temperature\",\n",
       "  'strapline': \"The lander's second instrument is on the ground. But its ‘mole’ — a burrowing probe — has a long way to go.\"},\n",
       " {'headline': 'NASA to Share Results of Effort to Recover Mars Rover',\n",
       "  'strapline': 'NASA will discuss the status of its Mars Exploration Rover Opportunity in a media briefing at 11 a.m. PST (2 p.m. EST) Wednesday, Feb. 13, from the Jet Propulsion Laboratory.'},\n",
       " {'headline': \"NASA's MAVEN Spacecraft Shrinking its Mars Orbit to Prepare for Mars 2020 Rover\",\n",
       "  'strapline': 'The MAVEN spacecraft today is starting a campaign to tighten its orbit around Mars to prepare to serve as a data-relay satellite for NASA’s Mars 2020 rover, which launches next year.'},\n",
       " {'headline': '360 Video: Curiosity Rover Departs Vera Rubin Ridge',\n",
       "  'strapline': \"This panorama from the Mast Camera (Mastcam) on NASA's Curiosity Mars rover was taken on Dec. 19 (Sol 2265). The rover's last drill location on Vera Rubin Ridge is visible, as well as the clay region it will spend the next year exploring.\"},\n",
       " {'headline': 'Beyond Mars, the Mini MarCO Spacecraft Fall Silent',\n",
       "  'strapline': 'The first CubeSat mission to deep space may have reached their limit, but they could inspire future NASA missions.'},\n",
       " {'headline': \"InSight's Seismometer Now Has a Cozy Shelter on Mars\",\n",
       "  'strapline': \"A domed shield has been set over one of InSight's primary science instruments, protecting it from Mars' wind and temperature changes.\"},\n",
       " {'headline': '\"Mars Buggy\" Curiosity Measures a Mountain\\'s Gravity',\n",
       "  'strapline': 'Smartphone-like sensors on the NASA rover were used to calculate the density of Mount Sharp, offering new clues to its formation.'},\n",
       " {'headline': \"Curiosity Says Farewell to Mars' Vera Rubin Ridge\",\n",
       "  'strapline': \"The Mars rover is moving on and has taken its last selfie on the ridge it's explored for more than a year.\"},\n",
       " {'headline': 'Rover Team Beaming New Commands to Opportunity on Mars',\n",
       "  'strapline': 'Engineers at JPL have begun transmitting a new set of commands to Opportunity in an attempt to compel the Mars rover to contact Earth.'},\n",
       " {'headline': \"NASA's Opportunity Rover Logs 15 Years on Mars\",\n",
       "  'strapline': 'The rover landed in a region of the Red Planet called Meridiani Planum 16 years ago today, on Jan. 24, 2004.'},\n",
       " {'headline': \"NASA's InSight Places First Instrument on Mars\",\n",
       "  'strapline': 'In deploying its first instrument onto the surface of Mars, the lander completes a major mission milestone.'},\n",
       " {'headline': 'InSight Engineers Have Made a Martian Rock Garden',\n",
       "  'strapline': \"Reconstructing Mars here on Earth lets them practice setting down the lander's science instruments.\"},\n",
       " {'headline': 'Mars InSight Lander Seen in First Images from Space ',\n",
       "  'strapline': \"Look closely, and you can make out the lander's solar panels.\"},\n",
       " {'headline': \"NASA's InSight Takes Its First Selfie\",\n",
       "  'strapline': 'Two new image mosaics detail the lander\\'s deck and \"workspace\" — the surface where it will eventually set down its science instruments.'},\n",
       " {'headline': \"NASA InSight Lander 'Hears' Martian Winds \",\n",
       "  'strapline': 'Vibrations picked up by two spacecraft instruments have provided the first sounds of Martian wind.'},\n",
       " {'headline': \"NASA's Mars InSight Flexes Its Arm\",\n",
       "  'strapline': \"Now unstowed, the spacecraft's robotic arm will point a camera located on its elbow and take images of the surroundings.\"},\n",
       " {'headline': \"Mars New Home 'a Large Sandbox'\",\n",
       "  'strapline': \"With InSight safely on the surface of Mars, the mission team is busy learning more about the spacecraft's landing site.\"},\n",
       " {'headline': 'NASA Hears MarCO CubeSats Loud and Clear from Mars ',\n",
       "  'strapline': \"A pair of tiny, experimental spacecraft fulfilled their mission yesterday, relaying back near-real-time data during InSight's landing.\"},\n",
       " {'headline': 'InSight Is Catching Rays on Mars',\n",
       "  'strapline': 'The lander has sent data indicating its solar panels are open and receiving sunlight to power its surface operations.'},\n",
       " {'headline': 'NASA InSight Lander Arrives on Martian Surface ',\n",
       "  'strapline': 'The touchdown marks the eighth time NASA has successfully landed a spacecraft on Mars.'},\n",
       " {'headline': 'Landing Day for InSight',\n",
       "  'strapline': \"NASA's InSight spacecraft is on target for Mars landing at around noon PST today.\"},\n",
       " {'headline': 'NASA InSight Landing on Mars: Milestones',\n",
       "  'strapline': \"On Nov. 26, NASA's InSight spacecraft will blaze through the Martian atmosphere and set a lander gently on the surface in less time than it takes to cook a hard-boiled egg.\"},\n",
       " {'headline': 'NASA InSight Team on Course for Mars Touchdown',\n",
       "  'strapline': \"NASA's Mars InSight spacecraft is on track for a soft touchdown on the surface of the Red Planet on Nov. 26.\"},\n",
       " {'headline': 'What Two Planetary Siblings Can Teach Us About Life',\n",
       "  'strapline': \"In studying Mars, NASA's InSight will reveal what makes one planet more or less suitable for life than another.\"},\n",
       " {'headline': 'NASA Announces Landing Site for Mars 2020 Rover',\n",
       "  'strapline': 'After a five-year search, NASA has chosen Jezero Crater as the landing site for its upcoming Mars 2020 rover mission.'},\n",
       " {'headline': 'NASA to Host Media Call on Next Mars Landing Site',\n",
       "  'strapline': 'NASA will host a media teleconference at 9 a.m. PST (noon EST) Monday, Nov. 19, to provide details about the Mars 2020 rover’s landing site on the Red Planet.'},\n",
       " {'headline': 'How NASA Will Know When InSight Touches Down',\n",
       "  'strapline': 'On Nov. 26, engineers will look for a combination of signals to determine whether the next spacecraft to Mars lands safely.'},\n",
       " {'headline': 'NASA Brings Mars Landing to Viewers Everywhere',\n",
       "  'strapline': \"NASA's InSight lander is scheduled to touch down on the Red Planet at approximately noon PST  on Nov. 26, with a new suite of instruments to probe below the Martian surface.\"},\n",
       " {'headline': 'Curiosity on the Move Again',\n",
       "  'strapline': \"NASA's Mars Curiosity rover drove about 197 feet over the weekend to a site called Lake Orcadie, pushing its total odometry to over 12 miles.\"},\n",
       " {'headline': 'The Mars InSight Landing Site Is Just Plain Perfect',\n",
       "  'strapline': 'If the InSight landing zone were ice cream, it would be vanilla.'},\n",
       " {'headline': \"Five Things to Know About InSight's Mars Landing\",\n",
       "  'strapline': \"NASA engineers will be holding their breath when their spacecraft heads into Mars' atmosphere on Nov. 26.\"},\n",
       " {'headline': 'NASA Launches a New Podcast to Mars',\n",
       "  'strapline': \"NASA's new eight-episode series 'On a Mission' follows the InSight spacecraft on its journey to Mars and details the extraordinary challenges of landing on the Red Planet.\"},\n",
       " {'headline': 'Update on Opportunity Rover Recovery Efforts',\n",
       "  'strapline': 'After a review of the progress of the listening campaign, NASA will continue its current strategy for attempting to make contact with the Opportunity rover for the foreseeable future.'},\n",
       " {'headline': 'Third ASPIRE Test Confirms Mars 2020 Parachute a Go',\n",
       "  'strapline': 'The supersonic parachute that will handle the heaviest payload yet to the Red Planet – Mars 2020 rover – passes its final sounding rocket test with flying colors.'},\n",
       " {'headline': 'NASA to Host Briefing on November Mars InSight Landing',\n",
       "  'strapline': \"A briefing on NASA's upcoming InSight Mars landing will air on Wed. Oct. 31 at 1:30 p.m. EDT (10:30 a.m. PDT) on NASA TV, the agency's website and NASA InSight Facebook Page.\"},\n",
       " {'headline': \"NASA's InSight Will Study Mars While Standing Still\",\n",
       "  'strapline': \"The lander's unique science can teach us how planets are born.\"},\n",
       " {'headline': \"NASA's First Image of Mars from a CubeSat\",\n",
       "  'strapline': 'The image was produced by one of the twin briefcase-sized MarCO spacecraft, the first CubeSats to fly to deep space.'},\n",
       " {'headline': \"The 'Claw Game' on Mars: NASA InSight Plays to Win\",\n",
       "  'strapline': \"NASA's InSight lander will be the first mission to use a robotic arm to grasp instruments from the spacecraft and place them on the surface of another planet. \"}]"
      ]
     },
     "execution_count": 4,
     "metadata": {},
     "output_type": "execute_result"
    }
   ],
   "source": [
    "mars_news()\n"
   ]
  },
  {
   "cell_type": "code",
   "execution_count": 5,
   "metadata": {},
   "outputs": [],
   "source": [
    "def mars_image():\n",
    "    output_dict = {}\n",
    "    browser = init_browser()\n",
    "# Visit the JPL site \n",
    "    image_url = 'https://www.jpl.nasa.gov/spaceimages/?search=&category=Mars'\n",
    "    base_url = image_url.split('/spaceimages')[0]\n",
    "    browser.visit(image_url)\n",
    "\n",
    "    # Click to expand fancybox and get the full image\n",
    "    try:\n",
    "        browser.click_link_by_partial_text('FULL IMAGE')\n",
    "        time.sleep(3)\n",
    "    # Scrape out the image link\n",
    "        soup2 = BeautifulSoup(browser.html, 'lxml')\n",
    "        browser.quit()\n",
    "    except ElementDoesNotExist:\n",
    "        print(\"Error with featured image\")\n",
    "        browser.quit()\n",
    "\n",
    "    try:\n",
    "        image_tag = soup2.find('img', class_='fancybox-image')\n",
    "        image_title = soup2.find('div', class_='fancybox-title').text\n",
    "        image_rel_url = image_tag['src']\n",
    "    #Put together a functional URL\n",
    "        featured_image_url = base_url + image_rel_url\n",
    "        output_dict['img_url'] = featured_image_url\n",
    "        output_dict['title'] = image_title.split('more info')[0].rstrip()\n",
    "        output_dict['type'] = 'featured'\n",
    "        return output_dict\n",
    "    except ElementDoesNotExist:\n",
    "        print(\"Error with featured image\")"
   ]
  },
  {
   "cell_type": "code",
   "execution_count": 6,
   "metadata": {},
   "outputs": [
    {
     "data": {
      "text/plain": [
       "{'img_url': 'https://www.jpl.nasa.gov/spaceimages/images/mediumsize/PIA17843_ip.jpg',\n",
       " 'title': 'Speedster Star Shocks the Galaxy',\n",
       " 'type': 'featured'}"
      ]
     },
     "execution_count": 6,
     "metadata": {},
     "output_type": "execute_result"
    }
   ],
   "source": [
    "mars_image()"
   ]
  },
  {
   "cell_type": "code",
   "execution_count": 7,
   "metadata": {},
   "outputs": [],
   "source": [
    "def mars_weather():\n",
    "    output_dict = {}\n",
    "#     browser = init_browser()\n",
    "# Visit the Mars Weather Twitter page\n",
    "    twitter_url = 'https://twitter.com/marswxreport?lang=en'\n",
    "#     browser.visit(twitter_url)\n",
    "#     html = browser.html\n",
    "    response = requests.get(twitter_url)\n",
    "    # Scrape out some tweets\n",
    "    soup3 = BeautifulSoup(response.text, 'lxml')\n",
    "    try:\n",
    "        tweets = soup3.find_all('div', class_='js-tweet-text-container', limit=10)\n",
    "#         browser.quit()\n",
    "    except AttributeError:\n",
    "        print(\"Error with tweet\")\n",
    "#         browser.quit()\n",
    "    # To get around potential retweets,\n",
    "    # go through the top 10 tweets and find one that looks like weather\n",
    "    for item in tweets:\n",
    "        if item.p.text.split(' ')[0] == 'Sol':\n",
    "            mars_weather = item.p.text.split('pic.twitter')[0]\n",
    "            mars_weather = mars_weather.split(',')\n",
    "            output_dict['date'] = mars_weather[0]\n",
    "            output_dict['high_temp'] = mars_weather[1].split('high ')[1]\n",
    "            output_dict['low_temp'] = mars_weather[2].split('low ')[1]\n",
    "            output_dict['pressure'] = mars_weather[3].split('pressure at ')[1]\n",
    "            output_dict['daylight'] = mars_weather[4].split('daylight ')[1]\n",
    "            return output_dict\n",
    "            # Exit the loop if one is found that looks like weather\n",
    "            break\n",
    "\n",
    "    "
   ]
  },
  {
   "cell_type": "code",
   "execution_count": 8,
   "metadata": {},
   "outputs": [
    {
     "data": {
      "text/plain": [
       "{'date': 'Sol 2319 (2019-02-13)',\n",
       " 'high_temp': '-17C/1F',\n",
       " 'low_temp': '-72C/-97F',\n",
       " 'pressure': '8.12 hPa',\n",
       " 'daylight': '06:46-18:52'}"
      ]
     },
     "execution_count": 8,
     "metadata": {},
     "output_type": "execute_result"
    }
   ],
   "source": [
    "mars_weather()"
   ]
  },
  {
   "cell_type": "code",
   "execution_count": 9,
   "metadata": {},
   "outputs": [],
   "source": [
    "def mars_facts():\n",
    "    output_dict={}\n",
    "# Visit the Mars Space Facts page\n",
    "    try:\n",
    "        facts_url = 'http://space-facts.com/mars/'\n",
    "        tables = pd.read_html(facts_url)\n",
    "        df = tables[0]\n",
    "        df.columns=['Fact','Value']\n",
    "        facts_table = df.to_html(index=False, header=True)\n",
    "        output_dict['facts_table'] = facts_table\n",
    "        return output_dict\n",
    "    except AttributeError as e:\n",
    "        print(e)"
   ]
  },
  {
   "cell_type": "code",
   "execution_count": 10,
   "metadata": {},
   "outputs": [
    {
     "data": {
      "text/plain": [
       "{'facts_table': '<table border=\"1\" class=\"dataframe\">\\n  <thead>\\n    <tr style=\"text-align: right;\">\\n      <th>Fact</th>\\n      <th>Value</th>\\n    </tr>\\n  </thead>\\n  <tbody>\\n    <tr>\\n      <td>Equatorial Diameter:</td>\\n      <td>6,792 km</td>\\n    </tr>\\n    <tr>\\n      <td>Polar Diameter:</td>\\n      <td>6,752 km</td>\\n    </tr>\\n    <tr>\\n      <td>Mass:</td>\\n      <td>6.42 x 10^23 kg (10.7% Earth)</td>\\n    </tr>\\n    <tr>\\n      <td>Moons:</td>\\n      <td>2 (Phobos &amp; Deimos)</td>\\n    </tr>\\n    <tr>\\n      <td>Orbit Distance:</td>\\n      <td>227,943,824 km (1.52 AU)</td>\\n    </tr>\\n    <tr>\\n      <td>Orbit Period:</td>\\n      <td>687 days (1.9 years)</td>\\n    </tr>\\n    <tr>\\n      <td>Surface Temperature:</td>\\n      <td>-153 to 20 °C</td>\\n    </tr>\\n    <tr>\\n      <td>First Record:</td>\\n      <td>2nd millennium BC</td>\\n    </tr>\\n    <tr>\\n      <td>Recorded By:</td>\\n      <td>Egyptian astronomers</td>\\n    </tr>\\n  </tbody>\\n</table>'}"
      ]
     },
     "execution_count": 10,
     "metadata": {},
     "output_type": "execute_result"
    }
   ],
   "source": [
    "mars_facts()"
   ]
  },
  {
   "cell_type": "code",
   "execution_count": 11,
   "metadata": {},
   "outputs": [],
   "source": [
    "def mars_hemispheres():\n",
    "# A blank list for the image name and URLS\n",
    "    hemisphere_image_urls = []\n",
    "# Open a browser\n",
    "    browser = init_browser()\n",
    "# Get the results from Mars Hemispheres image search and store in results\n",
    "    h_url = 'https://astrogeology.usgs.gov/search/results?q=hemisphere+enhanced&k1=target&v1=Mars'\n",
    "    base_url = h_url.split('/search')[0]\n",
    "    # Navigate to the page\n",
    "    browser.visit(h_url)\n",
    "# Store the html in the soup\n",
    "    soup4 = BeautifulSoup(browser.html, 'html.parser')\n",
    "# Parse out the desired content    \n",
    "    try:\n",
    "        results = soup4.find_all('div', class_='description')\n",
    "    except AttributeError as e:\n",
    "        print(e)\n",
    "\n",
    "    # Iterate through the soup results and store the information as a list of dictionaries\n",
    "    for item in results:\n",
    "        link_dict = {} # A blank temporary dictionary for each iteration\n",
    "        # Get the URL from the a-tag\n",
    "        link = base_url + item.find('a')['href']\n",
    "#         print(link)\n",
    "        # Visit each link in the results to get full image information\n",
    "        browser.visit(link)\n",
    "#         print('trying page')\n",
    "        time.sleep(1)\n",
    "\n",
    "        #Now scrape the page looking for the jpg image with text 'Sample'\n",
    "\n",
    "        try:\n",
    "            soup = BeautifulSoup(browser.html, 'html.parser')\n",
    "            img_list = soup.find('a', text='Sample')\n",
    "        # Storing the data in the dictionary \n",
    "            link_dict['title'] = soup.find('h2', class_='title').text\n",
    "            link_dict['img_url'] = img_list['href']\n",
    "            link_dict['type'] = 'hemisphere'\n",
    "            # Appending dictionary to the list for output\n",
    "            hemisphere_image_urls.append(link_dict)\n",
    "        except ElementDoesNotExist:\n",
    "            print(\"Error with featured image\")\n",
    "\n",
    "    browser.quit()\n",
    "    return hemisphere_image_urls\n"
   ]
  },
  {
   "cell_type": "code",
   "execution_count": 12,
   "metadata": {},
   "outputs": [
    {
     "data": {
      "text/plain": [
       "[]"
      ]
     },
     "execution_count": 12,
     "metadata": {},
     "output_type": "execute_result"
    }
   ],
   "source": [
    "mars_hemispheres()"
   ]
  },
  {
   "cell_type": "code",
   "execution_count": null,
   "metadata": {},
   "outputs": [],
   "source": []
  }
 ],
 "metadata": {
  "kernelspec": {
   "display_name": "Python 3",
   "language": "python",
   "name": "python3"
  },
  "language_info": {
   "codemirror_mode": {
    "name": "ipython",
    "version": 3
   },
   "file_extension": ".py",
   "mimetype": "text/x-python",
   "name": "python",
   "nbconvert_exporter": "python",
   "pygments_lexer": "ipython3",
   "version": "3.7.0"
  }
 },
 "nbformat": 4,
 "nbformat_minor": 2
}
